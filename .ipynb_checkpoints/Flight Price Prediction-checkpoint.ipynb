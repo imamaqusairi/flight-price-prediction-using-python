{
 "cells": [
  {
   "cell_type": "markdown",
   "id": "d6d56853-3bd1-4fca-a951-fcda2b9ab8cf",
   "metadata": {},
   "source": [
    "# Flight Price Prediction"
   ]
  },
  {
   "cell_type": "code",
   "execution_count": 8,
   "id": "2393224d-09ed-47f5-b175-8795cee53941",
   "metadata": {},
   "outputs": [],
   "source": [
    "from IPython.display import display, HTML\n",
    "import pandas as pd\n",
    "import numpy as np\n",
    "import matplotlib.pyplot as plt\n",
    "import seaborn as sns"
   ]
  },
  {
   "cell_type": "markdown",
   "id": "2268f313-4a3e-48e0-b93d-cb19356ffd2b",
   "metadata": {},
   "source": [
    "## 1. Data Exploration"
   ]
  },
  {
   "cell_type": "code",
   "execution_count": 3,
   "id": "b59b5002-8a97-466d-a169-52f636651c14",
   "metadata": {},
   "outputs": [],
   "source": [
    "df = pd.read_csv(r\"D:/Obsidian Notes/1. Works/04 Project/1. Personal Project/1.2.2 Data Science Project/1. On Progress/Flight Price Prediction/Jupyter/Cleaned_dataset.csv\")\n",
    "df2 = df.copy()"
   ]
  },
  {
   "cell_type": "code",
   "execution_count": 4,
   "id": "6f83f3e0-3d3f-4d8f-827f-fb0b28df7e5c",
   "metadata": {},
   "outputs": [
    {
     "name": "stdout",
     "output_type": "stream",
     "text": [
      "<class 'pandas.core.frame.DataFrame'>\n",
      "RangeIndex: 452088 entries, 0 to 452087\n",
      "Data columns (total 13 columns):\n",
      " #   Column             Non-Null Count   Dtype  \n",
      "---  ------             --------------   -----  \n",
      " 0   Date_of_journey    452088 non-null  object \n",
      " 1   Journey_day        452088 non-null  object \n",
      " 2   Airline            452088 non-null  object \n",
      " 3   Flight_code        452088 non-null  object \n",
      " 4   Class              452088 non-null  object \n",
      " 5   Source             452088 non-null  object \n",
      " 6   Departure          452088 non-null  object \n",
      " 7   Total_stops        452088 non-null  object \n",
      " 8   Arrival            452088 non-null  object \n",
      " 9   Destination        452088 non-null  object \n",
      " 10  Duration_in_hours  452088 non-null  float64\n",
      " 11  Days_left          452088 non-null  int64  \n",
      " 12  Fare               452088 non-null  int64  \n",
      "dtypes: float64(1), int64(2), object(10)\n",
      "memory usage: 44.8+ MB\n"
     ]
    }
   ],
   "source": [
    "df2.info()"
   ]
  },
  {
   "cell_type": "code",
   "execution_count": 5,
   "id": "adf471b7-9944-481f-8fdd-21ba644abc07",
   "metadata": {},
   "outputs": [
    {
     "data": {
      "text/html": [
       "<div>\n",
       "<style scoped>\n",
       "    .dataframe tbody tr th:only-of-type {\n",
       "        vertical-align: middle;\n",
       "    }\n",
       "\n",
       "    .dataframe tbody tr th {\n",
       "        vertical-align: top;\n",
       "    }\n",
       "\n",
       "    .dataframe thead th {\n",
       "        text-align: right;\n",
       "    }\n",
       "</style>\n",
       "<table border=\"1\" class=\"dataframe\">\n",
       "  <thead>\n",
       "    <tr style=\"text-align: right;\">\n",
       "      <th></th>\n",
       "      <th>Date_of_journey</th>\n",
       "      <th>Journey_day</th>\n",
       "      <th>Airline</th>\n",
       "      <th>Flight_code</th>\n",
       "      <th>Class</th>\n",
       "      <th>Source</th>\n",
       "      <th>Departure</th>\n",
       "      <th>Total_stops</th>\n",
       "      <th>Arrival</th>\n",
       "      <th>Destination</th>\n",
       "      <th>Duration_in_hours</th>\n",
       "      <th>Days_left</th>\n",
       "      <th>Fare</th>\n",
       "    </tr>\n",
       "  </thead>\n",
       "  <tbody>\n",
       "    <tr>\n",
       "      <th>0</th>\n",
       "      <td>2023-01-16</td>\n",
       "      <td>Monday</td>\n",
       "      <td>SpiceJet</td>\n",
       "      <td>SG-8169</td>\n",
       "      <td>Economy</td>\n",
       "      <td>Delhi</td>\n",
       "      <td>After 6 PM</td>\n",
       "      <td>non-stop</td>\n",
       "      <td>After 6 PM</td>\n",
       "      <td>Mumbai</td>\n",
       "      <td>2.0833</td>\n",
       "      <td>1</td>\n",
       "      <td>5335</td>\n",
       "    </tr>\n",
       "    <tr>\n",
       "      <th>1</th>\n",
       "      <td>2023-01-16</td>\n",
       "      <td>Monday</td>\n",
       "      <td>Indigo</td>\n",
       "      <td>6E-2519</td>\n",
       "      <td>Economy</td>\n",
       "      <td>Delhi</td>\n",
       "      <td>After 6 PM</td>\n",
       "      <td>non-stop</td>\n",
       "      <td>Before 6 AM</td>\n",
       "      <td>Mumbai</td>\n",
       "      <td>2.3333</td>\n",
       "      <td>1</td>\n",
       "      <td>5899</td>\n",
       "    </tr>\n",
       "    <tr>\n",
       "      <th>2</th>\n",
       "      <td>2023-01-16</td>\n",
       "      <td>Monday</td>\n",
       "      <td>GO FIRST</td>\n",
       "      <td>G8-354</td>\n",
       "      <td>Economy</td>\n",
       "      <td>Delhi</td>\n",
       "      <td>After 6 PM</td>\n",
       "      <td>non-stop</td>\n",
       "      <td>Before 6 AM</td>\n",
       "      <td>Mumbai</td>\n",
       "      <td>2.1667</td>\n",
       "      <td>1</td>\n",
       "      <td>5801</td>\n",
       "    </tr>\n",
       "    <tr>\n",
       "      <th>3</th>\n",
       "      <td>2023-01-16</td>\n",
       "      <td>Monday</td>\n",
       "      <td>SpiceJet</td>\n",
       "      <td>SG-8709</td>\n",
       "      <td>Economy</td>\n",
       "      <td>Delhi</td>\n",
       "      <td>After 6 PM</td>\n",
       "      <td>non-stop</td>\n",
       "      <td>After 6 PM</td>\n",
       "      <td>Mumbai</td>\n",
       "      <td>2.0833</td>\n",
       "      <td>1</td>\n",
       "      <td>5794</td>\n",
       "    </tr>\n",
       "    <tr>\n",
       "      <th>4</th>\n",
       "      <td>2023-01-16</td>\n",
       "      <td>Monday</td>\n",
       "      <td>Air India</td>\n",
       "      <td>AI-805</td>\n",
       "      <td>Economy</td>\n",
       "      <td>Delhi</td>\n",
       "      <td>After 6 PM</td>\n",
       "      <td>non-stop</td>\n",
       "      <td>After 6 PM</td>\n",
       "      <td>Mumbai</td>\n",
       "      <td>2.1667</td>\n",
       "      <td>1</td>\n",
       "      <td>5955</td>\n",
       "    </tr>\n",
       "  </tbody>\n",
       "</table>\n",
       "</div>"
      ],
      "text/plain": [
       "  Date_of_journey Journey_day    Airline Flight_code    Class Source  \\\n",
       "0      2023-01-16      Monday   SpiceJet     SG-8169  Economy  Delhi   \n",
       "1      2023-01-16      Monday     Indigo     6E-2519  Economy  Delhi   \n",
       "2      2023-01-16      Monday   GO FIRST      G8-354  Economy  Delhi   \n",
       "3      2023-01-16      Monday   SpiceJet     SG-8709  Economy  Delhi   \n",
       "4      2023-01-16      Monday  Air India      AI-805  Economy  Delhi   \n",
       "\n",
       "    Departure Total_stops      Arrival Destination  Duration_in_hours  \\\n",
       "0  After 6 PM    non-stop   After 6 PM      Mumbai             2.0833   \n",
       "1  After 6 PM    non-stop  Before 6 AM      Mumbai             2.3333   \n",
       "2  After 6 PM    non-stop  Before 6 AM      Mumbai             2.1667   \n",
       "3  After 6 PM    non-stop   After 6 PM      Mumbai             2.0833   \n",
       "4  After 6 PM    non-stop   After 6 PM      Mumbai             2.1667   \n",
       "\n",
       "   Days_left  Fare  \n",
       "0          1  5335  \n",
       "1          1  5899  \n",
       "2          1  5801  \n",
       "3          1  5794  \n",
       "4          1  5955  "
      ]
     },
     "execution_count": 5,
     "metadata": {},
     "output_type": "execute_result"
    }
   ],
   "source": [
    "df2.head()"
   ]
  },
  {
   "cell_type": "code",
   "execution_count": 6,
   "id": "17bac245-be8c-4eec-80ac-d04b51934b9b",
   "metadata": {},
   "outputs": [
    {
     "name": "stdout",
     "output_type": "stream",
     "text": [
      "Date_of_journey\n",
      "------\n",
      "['2023-01-16', '2023-01-17', '2023-01-18', '2023-01-19', '2023-01-20', '2023-01-21', '2023-01-22', '2023-01-23', '2023-01-24', '2023-01-25', '2023-01-26', '2023-01-27', '2023-01-28', '2023-01-29', '2023-01-30', '2023-01-31', '2023-02-01', '2023-02-02', '2023-02-03', '2023-02-04', '2023-02-05', '2023-02-06', '2023-02-07', '2023-02-08', '2023-02-09', '2023-02-10', '2023-02-11', '2023-02-12', '2023-02-13', '2023-02-14', '2023-02-15', '2023-02-16', '2023-02-17', '2023-02-18', '2023-02-19', '2023-02-20', '2023-02-21', '2023-02-22', '2023-02-23', '2023-02-24', '2023-02-25', '2023-02-26', '2023-02-27', '2023-02-28', '2023-03-01', '2023-03-02', '2023-03-03', '2023-03-04', '2023-03-05', '2023-03-06']\n",
      "Journey_day\n",
      "------\n",
      "['Monday', 'Tuesday', 'Wednesday', 'Thursday', 'Friday', 'Saturday', 'Sunday']\n",
      "Airline\n",
      "------\n",
      "['SpiceJet', 'Indigo', 'GO FIRST', 'Air India', 'AirAsia', 'Vistara', 'AkasaAir', 'AllianceAir', 'StarAir']\n",
      "Flight_code\n",
      "------\n",
      "['SG-8169', '6E-2519', 'G8-354', 'SG-8709', 'AI-805', 'AI-605', 'AI-814', 'G8-330', 'SG-2976', 'G8-346', 'I5-743', '6E-2208', 'I5-857', 'I5-773', 'I5-784', 'I5-1228', 'I5-740', 'I5-798', '6E-2017', '6E-2176', '6E-864', '6E-2084', '6E-2114', '6E-2138', 'UK-985', 'G8-336', 'G8-184', 'G8-143', 'G8-237', 'G8-2519', 'G8-113', 'AI-813', '6E-2716', '6E-5318', '6E-2505', '6E-2112', 'AI-863', 'AI-624', 'G8-323', 'UK-627', '6E-2075', '6E-2016', '6E-6814', 'G8-2501', 'G8-334', '6E-2411', 'UK-811', 'UK-635', 'AI-504', '6E-5218', '6E-2328', '6E-2025', 'UK-807', 'UK-809', 'QP-1128', 'AI-815', 'AI-807', 'AI-883', '6E-2526', 'AI-443', 'UK-981', 'UK-977', 'UK-957', 'AI-471', 'G8-119', 'SG-8701', 'AI-558', 'I5-745', 'AI-811', 'AI-537', 'AI-554', 'UK-855', 'AI-439', 'AI-485', 'AI-544', 'AI-415', 'UK-933', 'UK-941', '6E-5345', 'G8-194', 'G8-286', 'AI-885', 'AI-540', 'AI-429', 'AI-887', 'AI-451', 'UK-833', '6E-6822', 'AI-839', 'UK-817', '6E-2033', 'UK-829', '6E-2216', '6E-607', 'UK-943', 'UK-993', 'UK-955', 'UK-945', 'UK-963', 'UK-673', 'UK-879', 'UK-781', 'UK-859', '6E-153', '6E-319', '6E-5615', 'AI-453', '6E-123', 'UK-813', 'AI-473', '6E-5603', 'UK-927', 'UK-929', 'AI-665', 'G8-101', '6E-6231', 'G8-713', 'AI-801', 'UK-839', 'G8-719', 'AI-833', 'I5-711', 'UK-747', 'UK-819', 'UK-951', '6E-6034', 'G8-717', '6E-2204', 'UK-835', '6E-6201', 'UK-899', 'UK-959', 'UK-969', '6E-6475', 'UK-737', '6E-7403', 'UK-871', 'UK-979', 'AI-865', '6E-6492', '6E-184', 'UK-637', 'UK-706', 'UK-837', 'UK-787', 'UK-785', 'AI-678', 'AI-441', 'AI-636', 'AI-621', 'AI-433', 'AI-411', 'AI-479', 'AI-463', 'AI-542', 'AI-560', 'AI-425', 'AI-506', 'AI-803', 'AI-502', 'UK-995', 'UK-705', 'UK-847', 'AI-406', 'UK-815', 'UK-801', 'G8-530', 'I5-548', '6E-2117', 'UK-975', 'AI-512', '6E-902', '6E-2049', 'AI-401', 'AI-767', '6E-6187', 'UK-707', 'G8-213', 'G8-259', 'AI-877', 'AI-465', 'UK-727', 'SG-8241', 'AI-475', '6E-6103', '6E-6184', 'AI-762', 'AI-481', 'SG-2905', 'AI-403', 'AI-817', 'UK-891', 'G8-203', 'AI-407', 'AI-435', 'AI-531', 'AI-487', 'I5-569', 'I5-560', 'I5-741', '6E-125', 'I5-779', '6E-6232', '6E-6022', 'G8-7001', '6E-7405', 'I5-714', '6E-2417', 'SG-2954', '6E-5216', 'AI-764', '6E-2042', '6E-2431', '6E-2005', '6E-6554', '6E-2187', '6E-2131', '6E-6565', 'SG-191', 'I5-744', 'I5-710', 'I5-552', 'I5-1732', '6E-2434', 'SG-143', 'I5-768', '6E-2487', '6E-6622', '6E-6612', '6E-2403', '6E-5608', '6E-2188', '6E-5088', '6E-781', '6E-2067', '6E-2515', '6E-308', '6E-2596', 'I5-776', 'QP-1335', '6E-2212', 'I5-549', 'I5-330', 'I5-767', 'I5-792', '6E-674', '6E-774', '6E-6203', '6E-2406', '6E-6618', 'SG-480', 'SG-8938', 'I5-783', 'I5-787', 'SG-8411', 'SG-8496', 'UK-971', 'SG-8721', 'SG-8722', '6E-6605', 'SG-8869', '6E-2274', 'G8-275', '6E-2004', '6E-2461', 'I5-791', 'UK-721', '6E-2343', 'SG-8185', 'UK-973', 'SG-8133', 'G8-173', 'SG-8946', 'UK-741', 'I5-788', 'I5-721', 'UK-991', 'UK-997', 'UK-935', '6E-6371', 'SG-8103', 'I5-716', 'I5-1534', '6E-2141', 'G8-422', '6E-2319', '6E-7148', '6E-6903', '6E-2331', '6E-2061', '6E-2169', '6E-5037', '6E-2059', 'SG-8373', '6E-2423', '6E-2092', '6E-2334', 'SG-8165', '6E-2425', 'SG-8941', '6E-2115', 'SG-903', '6E-2517', '6E-6924', '6E-603', 'SG-187', '6E-2057', '6E-5353', 'G8-263', 'SG-8263', 'SG-8253', '6E-2106', '6E-755', '6E-2415', '6E-214', '6E-2427', '6E-2127', '6E-6557', '6E-2206', '6E-6191', '6E-2093', '6E-2064', '6E-2373', '6E-2513', '6E-2231', '6E-442', '6E-2087', '6E-6096', '6E-6051', '6E-5022', 'AI-889', '6E-6531', 'I5-764', '6E-2148', 'AI-879', '6E-2196', 'G8-153', 'I5-996', '6E-2769', '6E-2282', '6E-2453', '6E-6238', '6E-6603', '6E-2257', '6E-6245', '6E-6361', '6E-2028', '6E-204', 'SG-8207', '6E-5003', '6E-2275', 'SG-8211', '6E-2105', '6E-2237', 'SG-207', '6E-5913', '6E-315', '6E-251', '9I-695', '6E-789', 'QP-1334', 'SG-193', '6E-291', '6E-5026', 'AI-853', 'AI-851', 'AI-849', 'SG-8717', 'AI-857', '6E-2175', 'I5-492', '6E-154', 'AI-816', 'AI-687', 'AI-888', 'AI-442', 'G8-345', 'G8-2508', 'UK-986', '6E-2518', 'AI-677', 'AI-660', 'I5-1569', 'I5-335', 'I5-765', 'I5-1784', 'I5-338', '6E-2123', '6E-2051', 'QP-1127', '6E-2083', 'SG-8158', 'UK-950', 'SG-8702', '6E-2166', '6E-5219', '6E-6821', '6E-2103', '6E-2113', '6E-2015', 'G8-341', 'G8-322', 'G8-339', 'SG-8152', '6E-2326', 'G8-327', 'G8-319', '6E-993', '6E-2056', 'G8-329', 'AI-607', 'G8-364', 'G8-2504', 'G8-351', 'G8-365', 'UK-928', '6E-5238', '6E-5332', '6E-2504', '6E-2137', 'AI-809', 'UK-952', 'SG-2872', '6E-2398', 'UK-507', 'UK-863', 'I5-761', 'AI-806', 'UK-853', 'AI-639', 'AI-570', 'AI-649', 'G8-349', 'UK-988', 'UK-960', 'UK-944', 'G8-325', 'G8-398', 'AI-671', 'G8-391', 'G8-363', 'G8-384', 'G8-371', 'UK-827', 'UK-954', 'UK-902', 'UK-613', 'AI-683', 'AI-651', 'I5-670', 'UK-621', 'G8-382', 'UK-852', 'I5-331', 'AI-663', '6E-225', 'UK-821', 'UK-823', '6E-296', 'AI-685', 'G8-331', 'UK-910', 'UK-996', '6E-5254', 'UK-949', '6E-5269', 'AI-864', 'UK-653', 'UK-545', '6E-6538', '6E-5338', 'AI-581', '6E-6177', '6E-802', '6E-6085', 'AI-499', 'AI-774', 'AI-572', 'UK-543', '6E-6183', 'UK-625', 'UK-825', 'UK-940', 'UK-994', '6E-2443', '6E-5358', 'G8-575', 'UK-939', 'AI-776', '6E-6431', 'UK-521', '6E-843', 'AI-645', '6E-5281', 'I5-336', 'G8-511', '6E-2047', 'UK-887', 'UK-930', 'AI-681', 'UK-775', 'UK-919', 'UK-773', 'UK-841', 'AI-675', 'G8-287', 'UK-771', 'UK-843', 'UK-849', 'UK-845', 'UK-873', 'UK-869', 'AI-635', 'AI-637', 'AI-643', 'AI-625', 'UK-875', 'UK-651', 'AI-573', 'AI-576', 'AI-603', 'UK-851', 'UK-865', 'AI-866', 'UK-970', 'G8-344', '6E-266', 'AI-641', 'SG-276', 'AI-633', 'AI-615', 'AI-673', 'AI-669', '6E-5315', 'AI-655', 'UK-877', 'AI-619', 'AI-617', 'UK-857', 'G8-317', 'AI-609', 'G8-381', 'AI-689', '6E-5125', 'SG-349', 'G8-247', 'UK-861', 'G8-244', '6E-107', '6E-3298', 'I5-762', 'AI-691', 'G8-397', '6E-294', '6E-821', 'G8-390', 'I5-769', 'QP-1367', '6E-5256', 'QP-6513', 'QP-1341', '6E-5252', 'QP-1105', 'QP-1306', '6E-5221', 'QP-1363', '6E-5284', '6E-5294', '6E-5382', '6E-5265', 'QP-1103', 'QP-1110', '6E-5337', '6E-907', '6E-5213', '6E-696', '6E-5352', '6E-5303', '6E-5307', '6E-5211', 'SG-455', '6E-5296', '6E-332', '6E-2486', '6E-5388', '6E-5271', '6E-5258', '6E-5317', '6E-6293', '6E-5202', '6E-772', '6E-5246', '6E-5172', '6E-179', '6E-6571', '6E-6809', '6E-461', '6E-157', '6E-6703', '6E-5187', '6E-5267', 'SG-475', '6E-138', '6E-6701', 'SG-488', '6E-5285', '6E-165', '6E-6674', '6E-5212', '6E-136', 'I5-332', '6E-7292', '6E-567', '6E-5291', '6E-5206', '6E-5079', '6E-5228', '9I-302', '6E-124', '6E-128', '6E-5287', '6E-395', 'SG-241', '6E-6514', '6E-5311', 'SG-467', '6E-5354', '6E-6749', '6E-5253', '6E-5297', '6E-6083', '6E-5301', '6E-5178', 'SG-163', '6E-5305', '6E-5124', 'SG-251', 'SG-611', '6E-5273', 'G8-305', 'QP-1115', 'QP-1304', '6E-6064', 'SG-220', '6E-2528', 'G8-4035', 'SG-253', '6E-6398', '6E-5262', 'QP-1107', 'QP-1101', 'QP-1113', 'S5-112', 'G8-306', 'AI-507', 'AI-808', 'I5-749', 'UK-820', 'UK-802', 'UK-818', 'UK-814', '6E-2402', '6E-6813', 'G8-118', 'AI-509', 'I5-819', 'I5-942', 'I5-976', 'I5-1781', 'I5-1621', 'I5-1452', '6E-869', '6E-6621', '6E-2174', '6E-2053', '6E-5039', '6E-735', '6E-2401', 'UK-816', 'AI-503', '6E-6753', '6E-116', '6E-687', '6E-6491', '6E-6743', '6E-484', '6E-6802', '6E-469', '6E-528', '6E-6273', '6E-6923', 'I5-1731', 'I5-1532', 'UK-553', 'I5-1455', 'UK-808', 'SG-535', '6E-871', 'UK-850', 'AI-642', 'AI-610', 'AI-501', 'AI-505', 'AI-511', 'G8-241', 'I5-1426', 'I5-1982', 'QP-1336', 'UK-864', 'UK-854', '6E-638', '6E-6067', '6E-6178', 'I5-1528', '6E-2433', '6E-2186', 'I5-1981', 'I5-1780', 'I5-1453', 'UK-866', '6E-6892', 'G8-401', 'SG-136', '6E-6247', '6E-5021', 'I5-1567', 'G8-320', 'G8-803', 'G8-399', 'G8-274', 'G8-801', 'AI-604', 'SG-2909', 'SG-768', '6E-886', 'UK-812', 'I5-386', 'AI-804', 'G8-721', 'I5-1622', 'UK-893', '6E-6563', '6E-415', 'UK-897', 'UK-846', 'UK-810', 'G8-285', 'UK-551', 'G8-395', 'I5-818', '6E-408', 'I5-820', 'UK-508', '6E-6104', '6E-6876', 'I5-1574', 'UK-755', 'I5-972', 'I5-1983', 'UK-858', 'SG-531', 'UK-881', 'AI-516', 'AI-640', 'SG-8134', '6E-537', '6E-855', 'G8-116', 'AI-608', 'AI-564', 'AI-893', '6E-959', 'UK-657', 'I5-559', 'I5-1562', 'I5-941', 'G8-2126', 'SG-9442', 'I5-1427', 'I5-1576', 'I5-2472', 'G8-808', '6E-684', 'G8-887', 'QP-1301', 'I5-1782', 'I5-334', '6E-5283', 'QP-1366', '6E-5376', 'QP-1104', '6E-5255', '6E-5204', '6E-5251', 'QP-1106', 'I5-613', 'QP-1362', 'QP-1340', '6E-5351', '6E-5293', '6E-5295', '6E-488', '6E-5201', '6E-356', '6E-6012', '6E-6017', '6E-6269', 'QP-1109', '6E-176', '6E-5323', '6E-904', '6E-194', '6E-7436', 'QP-6514', '6E-6653', '6E-6919', '6E-7227', '6E-113', 'QP-1329', '6E-182', '6E-109', '6E-6345', '6E-807', '6E-336', '6E-496', '6E-6445', '6E-703', '6E-305', '6E-435', '6E-5207', '6E-541', '9I-896', '9I-517', 'I5-611', 'I5-1451', '6E-7382', '6E-6139', '6E-7384', '6E-478', '6E-7418', '6E-7204', '6E-7223', '6E-7071', '6E-7257', '6E-575', 'S5-151', '6E-7338', 'S5-131', 'QP-1415', '6E-7102', 'I5-992', '6E-952', '6E-975', '6E-676', 'I5-592', '6E-6442', 'I5-1533', 'SG-517', '6E-172', '6E-368', '6E-6277', '6E-196', '6E-6779', '6E-6439', '6E-6339', '6E-6572', '6E-503', '6E-6336', '6E-978', '6E-6535', '6E-455', '6E-851', '6E-465', '6E-457', 'I5-558', '6E-6257', '6E-586', 'QP-1313', 'I5-2461', 'QP-1307', 'QP-1321', 'QP-1319', 'QP-1327', 'QP-1325', 'QP-1331', '6E-6595', '6E-6423', 'QP-1314', '6E-239', '6E-6032', '6E-324', '6E-405', 'G8-424', '6E-6606', '6E-2213', '6E-2324', '6E-6372', 'AI-840', '6E-2287', '6E-771', '6E-2011', 'I5-1229', 'I5-1543', 'I5-974', 'I5-1518', 'UK-890', 'UK-870', 'UK-880', '6E-2063', '6E-6204', '6E-2171', 'AI-541', 'AI-543', 'AI-559', 'UK-830', 'UK-860', 'SG-4003', 'AI-515', 'G8-1022', 'G8-1024', 'SG-1006', 'UK-894', 'AI-698', '6E-6591', 'I5-612', 'UK-888', '6E-531', '6E-7156', '6E-6438', '6E-5389', '6E-621', '6E-773', '6E-6594', '6E-7248', '6E-5245', '6E-6223', '6E-7417', 'UK-876', '6E-922', '6E-514', 'UK-878', '6E-981', '6E-6719', 'AI-525', '6E-413', '6E-426', '6E-6907', '6E-311', '6E-5268', '6E-134', '6E-6727', '6E-905', '6E-915', '6E-6593', '6E-351', '6E-108', 'UK-874', 'UK-872', 'AI-618', 'SG-8166', 'UK-898', 'AI-616', '6E-163', '6E-151', '6E-6915', '6E-289', '6E-243', '6E-5384', '6E-7375', '6E-6537', '6E-793', 'SG-2947', '6E-5257', '6E-283', '6E-664', '6E-297', '6E-995', 'G8-3001', 'I5-1529', '6E-7389', '6E-887', '6E-285', '6E-6417', '6E-944', '6E-949', '6E-6319', '6E-6156', '6E-6174', '6E-7383', '6E-598', '6E-668', '6E-6151', '6E-7136', '6E-984', '6E-7103', '9I-301', '6E-743', '6E-6066', '6E-7121', '6E-7163', '9I-518', '6E-6505', '9I-895', '6E-6007', '6E-7043', '6E-7143', '6E-7211', '6E-7213', '6E-7201', 'S5-152', '6E-7254', 'QP-1418', 'I5-587', '6E-376', '6E-6494', '6E-6242', '6E-6532', '6E-7039', '6E-879', '6E-3291', '6E-149', '6E-6911', '6E-972', '6E-6216', '9I-893', '6E-752', '6E-6408', '6E-7379', '6E-626', '6E-409', '6E-6646', '6E-6781', '6E-216', '6E-202', 'I5-582', 'I5-554', 'I5-1563', 'I5-319', 'I5-634', '6E-2009', 'G8-514', 'G8-537', 'G8-532', 'G8-393', 'SG-494', '6E-2234', '6E-224', 'SG-8130', 'SG-8264', 'AI-763', '6E-2474', '6E-5008', '6E-6324', 'UK-708', '6E-854', 'I5-541', 'G8-102', 'AI-768', '6E-2413', '6E-404', '6E-2516', '6E-898', '6E-895', '6E-811', 'UK-738', '6E-5599', '6E-6087', '6E-751', 'AI-402', 'UK-720', 'AI-775', '6E-417', '6E-135', '6E-6917', '6E-875', 'AI-676', '6E-7192', '6E-822', '6E-6021', '6E-6472', 'G8-888', '6E-874', 'UK-778', '6E-374', '6E-5225', '6E-476', '6E-6623', '6E-861', 'UK-776', '6E-798', 'UK-772', '6E-7561', '6E-6128', '6E-7234', '6E-6214', 'UK-774', 'I5-583', 'AI-785', 'AI-526', '6E-394', 'AI-773', '6E-292', 'AI-787', 'AI-770', 'AI-727', 'AI-733', '6E-6241', '6E-7583', '6E-207', '6E-7305', 'AI-721', '6E-6441', '6E-535', '6E-989', 'G8-3538', 'AI-709', 'AI-729', 'SG-893', 'SG-497', '6E-271', '6E-6154', '6E-713', '6E-114', '6E-7946', 'SG-242', 'SG-489', 'I5-588', 'I5-1536', '6E-5288', '6E-5312', '6E-6172', '6E-647', 'I5-991', '6E-958', '6E-379', '6E-282', '6E-563', '6E-534', '6E-6243', '6E-5375', '6E-318', '6E-757', '6E-6785', '6E-6893', '6E-634', '6E-7175', 'SG-383', '6E-6513', 'I5-517', '6E-716', 'SG-516', '6E-6289', '6E-268', '6E-512', '6E-6344', '6E-264', '6E-259', 'SG-274', '6E-245', '6E-6014', '6E-6256', '6E-192', '6E-6558', '6E-725', '6E-371', '6E-321', '6E-7623', '6E-345', '6E-139', '6E-566', 'SG-874', '6E-961', 'I5-821', 'SG-612', 'SG-8208', 'G8-304', '6E-804', '6E-2038', '6E-6228', 'UK-838', '6E-365', '6E-2002', '6E-6567', '6E-2752', '6E-613', '6E-2598', '6E-189', 'AI-553', 'AI-430', 'AI-539', 'AI-538', 'AI-557', '6E-605', '6E-6815', '6E-847', '6E-2007', 'AI-440', 'AI-571', 'AI-574', 'UK-826', 'AI-575', '6E-6381', 'UK-834', 'UK-832', 'UK-836', '6E-6149', 'SG-443', '6E-6239', 'AI-672', '6E-5306', '6E-6215', '6E-193', '6E-562', '6E-489', 'SG-329', '6E-5214', '6E-5367', '6E-515', 'UK-828', 'SG-445', '6E-188', '6E-561', '6E-495', 'UK-824', '6E-606', 'AI-569', 'UK-822', '6E-834', '6E-401', 'SG-678', '6E-447', '6E-7005', '6E-539', 'AI-786', '6E-848', '6E-253', '6E-6005', '6E-588', 'AI-549', 'SG-8108', 'AI-563', '6E-6213', '6E-5229', '6E-6169', '6E-6016', '6E-6192', '6E-6897', '6E-6925', 'SG-9543', 'SG-209', '6E-6797', '6E-288', '6E-891', '6E-6374', 'QP-1305', '6E-195', '6E-5325', 'QP-1116', '6E-6234', '6E-7446', '6E-6288', '6E-6002', '6E-237', '6E-7001', '6E-7183', '6E-7044', '6E-156', '6E-7351', '6E-5394', '6E-526', '6E-923', 'QP-1322', 'QP-1328', 'QP-1316', 'QP-1320', 'QP-1310', '6E-796', '9I-894', '6E-782', '6E-479', '6E-7084', '6E-581', '6E-881', '6E-927', '6E-557', '6E-917', '6E-7167', '6E-7477', '6E-7149', '6E-238', '6E-6011', '6E-6113', '6E-6518', '6E-183', '6E-6326', '6E-597', '6E-6309', '6E-522', 'SG-384', '6E-576', '6E-244', '6E-6835', '6E-502', '6E-6112', 'SG-2975', '9I-696', '6E-6375', 'G8-720', 'G8-714', 'SG-2971', '6E-6235', '6E-158', 'QP-1342', '6E-6506', '6E-935', '6E-6202', 'G8-718', '6E-6271', '6E-246', '6E-6042', '6E-2032', '6E-7114', '6E-6244', '6E-7274', '6E-7568', 'UK-918', '6E-2451', 'UK-926', '6E-6736', 'UK-956', 'UK-946', 'AI-818', 'AI-482', 'AI-532', 'UK-936', 'UK-976', 'UK-966', 'G8-715', 'SG-194', '6E-7074', 'SG-8718', '6E-2527', 'G8-911', 'AI-638', '6E-6126', 'G8-3006', 'SG-9124', 'QP-1108', 'G8-392', 'G8-2505', 'QP-1102', 'G8-459', 'QP-1114', 'G8-413', '6E-6935', '6E-803', '6E-2046', '6E-6794', '6E-6182', '6E-6208', '6E-2444', '6E-6425', '6E-983', 'G8-3002', 'QP-1332', 'QP-1326', 'G8-804', '6E-481', 'QP-1315', '6E-996', '6E-863', '6E-6539', '6E-6728', '6E-133', '6E-383', 'SG-1077', '6E-823', 'G8-802', '6E-6422', '6E-794', 'SG-1084', '6E-699', 'SG-977', '6E-6418', '6E-6391', '6E-326', '6E-6115', 'SG-3762', '6E-7247', '6E-7158', 'G8-3007', '6E-758', '6E-992', '6E-6687', '6E-6805', '6E-117', 'SG-869', '6E-6556', '6E-966', '6E-261', 'SG-491', '6E-921', '6E-6493', '6E-7073', '6E-348']\n",
      "Class\n",
      "------\n",
      "['Economy', 'Premium Economy', 'Business', 'First']\n",
      "Source\n",
      "------\n",
      "['Delhi', 'Mumbai', 'Bangalore', 'Hyderabad', 'Kolkata', 'Chennai', 'Ahmedabad']\n",
      "Departure\n",
      "------\n",
      "['After 6 PM', 'Before 6 AM', '12 PM - 6 PM', '6 AM - 12 PM']\n",
      "Total_stops\n",
      "------\n",
      "['non-stop', '1-stop', '2+-stop']\n",
      "Arrival\n",
      "------\n",
      "['After 6 PM', 'Before 6 AM', '6 AM - 12 PM', '12 PM - 6 PM']\n",
      "Destination\n",
      "------\n",
      "['Mumbai', 'Bangalore', 'Hyderabad', 'Kolkata', 'Chennai', 'Ahmedabad', 'Delhi']\n"
     ]
    }
   ],
   "source": [
    "for i in df.select_dtypes('object').columns:\n",
    "    print(i)\n",
    "    print(\"------\")\n",
    "    print(list(df[i].unique()))"
   ]
  },
  {
   "cell_type": "code",
   "execution_count": 8,
   "id": "2c324565-3d97-4951-b485-33be7eaac501",
   "metadata": {},
   "outputs": [
    {
     "data": {
      "text/html": [
       "<div>\n",
       "<style scoped>\n",
       "    .dataframe tbody tr th:only-of-type {\n",
       "        vertical-align: middle;\n",
       "    }\n",
       "\n",
       "    .dataframe tbody tr th {\n",
       "        vertical-align: top;\n",
       "    }\n",
       "\n",
       "    .dataframe thead th {\n",
       "        text-align: right;\n",
       "    }\n",
       "</style>\n",
       "<table border=\"1\" class=\"dataframe\">\n",
       "  <thead>\n",
       "    <tr style=\"text-align: right;\">\n",
       "      <th></th>\n",
       "      <th>count</th>\n",
       "      <th>mean</th>\n",
       "      <th>std</th>\n",
       "      <th>min</th>\n",
       "      <th>25%</th>\n",
       "      <th>50%</th>\n",
       "      <th>75%</th>\n",
       "      <th>max</th>\n",
       "    </tr>\n",
       "  </thead>\n",
       "  <tbody>\n",
       "    <tr>\n",
       "      <th>Duration_in_hours</th>\n",
       "      <td>452088.0</td>\n",
       "      <td>12.349222</td>\n",
       "      <td>7.431478</td>\n",
       "      <td>0.75</td>\n",
       "      <td>6.5833</td>\n",
       "      <td>11.3333</td>\n",
       "      <td>16.5</td>\n",
       "      <td>43.5833</td>\n",
       "    </tr>\n",
       "    <tr>\n",
       "      <th>Days_left</th>\n",
       "      <td>452088.0</td>\n",
       "      <td>25.627902</td>\n",
       "      <td>14.300846</td>\n",
       "      <td>1.00</td>\n",
       "      <td>13.0000</td>\n",
       "      <td>26.0000</td>\n",
       "      <td>38.0</td>\n",
       "      <td>50.0000</td>\n",
       "    </tr>\n",
       "    <tr>\n",
       "      <th>Fare</th>\n",
       "      <td>452088.0</td>\n",
       "      <td>22840.100890</td>\n",
       "      <td>20307.963002</td>\n",
       "      <td>1307.00</td>\n",
       "      <td>8762.7500</td>\n",
       "      <td>13407.0000</td>\n",
       "      <td>35587.0</td>\n",
       "      <td>143019.0000</td>\n",
       "    </tr>\n",
       "  </tbody>\n",
       "</table>\n",
       "</div>"
      ],
      "text/plain": [
       "                      count          mean           std      min        25%  \\\n",
       "Duration_in_hours  452088.0     12.349222      7.431478     0.75     6.5833   \n",
       "Days_left          452088.0     25.627902     14.300846     1.00    13.0000   \n",
       "Fare               452088.0  22840.100890  20307.963002  1307.00  8762.7500   \n",
       "\n",
       "                          50%      75%          max  \n",
       "Duration_in_hours     11.3333     16.5      43.5833  \n",
       "Days_left             26.0000     38.0      50.0000  \n",
       "Fare               13407.0000  35587.0  143019.0000  "
      ]
     },
     "execution_count": 8,
     "metadata": {},
     "output_type": "execute_result"
    }
   ],
   "source": [
    "df2.describe().T"
   ]
  },
  {
   "cell_type": "markdown",
   "id": "c3d74baa-3c49-497f-8114-8346d71e7ab7",
   "metadata": {},
   "source": [
    "## 2. Exploratory Data Analysis"
   ]
  },
  {
   "cell_type": "markdown",
   "id": "30d7d3c2-173d-4796-9841-3204217fcda0",
   "metadata": {},
   "source": [
    "Questions that i would answer in this project first : \n",
    "1. How data distribution of integer data shaped (including target)?\n",
    "2. How data distribution of categorical data ? \n",
    "3. Is there incorrect data types ? \n",
    "4. (Add external data 'Special / Holiday') is special / holiday data really influence ticket price ? \n",
    "5. Analyzing the ticket price difference between feature : \n",
    "\t- Is there significant difference between price with airline ?\n",
    "\t- Is there significant difference between price with Class ?\n",
    "\t- Are lower total number of stops means higher the price or vice versa ? \n",
    "\t- Is there significant difference between price with Destination ?\n",
    "\t- How the ticket price vary based on the substract of booking date with trip date ? "
   ]
  },
  {
   "cell_type": "markdown",
   "id": "4415a0b2-985d-4c32-9185-89a85b4fa271",
   "metadata": {},
   "source": [
    "### 1. How Numerical Data Distributed (Include Target)"
   ]
  },
  {
   "cell_type": "code",
   "execution_count": 15,
   "id": "23f2ab26-7937-48a0-a82b-66e8fdac1984",
   "metadata": {},
   "outputs": [
    {
     "data": {
      "text/html": [
       "<style>.container { width:100% !important; }</style>"
      ],
      "text/plain": [
       "<IPython.core.display.HTML object>"
      ]
     },
     "metadata": {},
     "output_type": "display_data"
    }
   ],
   "source": [
    "# Adjust the notebook cell width (optional)\n",
    "display(HTML(\"<style>.container { width:100% !important; }</style>\"))\n",
    "\n",
    "# Calculate the figure size based on the cell width\n",
    "cell_width = 95  # Adjust this value as needed\n",
    "figure_width = cell_width / 100 * 15  # 15% of the cell width\n",
    "\n",
    "plt.rcParams['figure.figsize'] = figure_width, 4\n",
    "plt.rcParams['lines.linewidth'] = 3\n",
    "plt.rcParams['xtick.labelsize'] = 'x-large'\n",
    "plt.rcParams['ytick.labelsize'] = 'x-large'\n",
    "\n",
    "\n",
    "numericals = df2.select_dtypes(['int64', 'float64']).columns\n",
    "\n",
    "def numerical_plotting(plot, data, numericals):\n",
    "    fig, axes = plt.subplots(1, len(numericals))    \n",
    "    for i, numerical in enumerate(numericals):\n",
    "        ax = axes[i]\n",
    "        if plot == 'box':\n",
    "            sns.boxplot(y=data[numerical], color='#f5b932ff', orient='v', showfliers=True, ax=ax)\n",
    "            ax.set_title(f'Boxplot of {numerical}')\n",
    "        elif plot == 'hist':\n",
    "            sns.histplot(data[numerical], color='#f5b932ff', kde=True, ax=ax)\n",
    "            ax.set_title(f'Distribution of {numerical}')\n",
    "        elif plot == 'violin':\n",
    "            sns.violinplot(y=data[numerical], color='#f5b932ff', orient='v', ax=ax)\n",
    "            ax.set_title(f'Violinplot of {numerical}')\n",
    "    \n",
    "    plt.tight_layout()\n",
    "    plt.show()"
   ]
  },
  {
   "cell_type": "code",
   "execution_count": 17,
   "id": "7e918e9f-558a-4a42-b1a6-0d38ca740048",
   "metadata": {
    "scrolled": true
   },
   "outputs": [
    {
     "data": {
      "image/png": "[encoded data removed]",
      "text/plain": [
       "<Figure size 1425x400 with 3 Axes>"
      ]
     },
     "metadata": {},
     "output_type": "display_data"
    }
   ],
   "source": [
    "numerical_plotting('hist', df2, numericals)"
   ]
  },
  {
   "cell_type": "code",
   "execution_count": 16,
   "id": "ff5640ef-0852-491e-96ba-db037a0b1ebf",
   "metadata": {},
   "outputs": [
    {
     "data": {
      "image/png": "[encoded data removed]",
      "text/plain": [
       "<Figure size 1425x400 with 3 Axes>"
      ]
     },
     "metadata": {},
     "output_type": "display_data"
    }
   ],
   "source": [
    "numerical_plotting('box', df2, numericals)"
   ]
  },
  {
   "cell_type": "markdown",
   "id": "1544cbe4-112e-42d7-8d06-c5e6a801740b",
   "metadata": {},
   "source": [
    "### 2. How Categorical Data Distributed"
   ]
  },
  {
   "cell_type": "code",
   "execution_count": 19,
   "id": "26af8711-c53d-4b01-913b-fad4fa68f1fd",
   "metadata": {},
   "outputs": [
    {
     "data": {
      "text/html": [
       "<div>\n",
       "<style scoped>\n",
       "    .dataframe tbody tr th:only-of-type {\n",
       "        vertical-align: middle;\n",
       "    }\n",
       "\n",
       "    .dataframe tbody tr th {\n",
       "        vertical-align: top;\n",
       "    }\n",
       "\n",
       "    .dataframe thead th {\n",
       "        text-align: right;\n",
       "    }\n",
       "</style>\n",
       "<table border=\"1\" class=\"dataframe\">\n",
       "  <thead>\n",
       "    <tr style=\"text-align: right;\">\n",
       "      <th></th>\n",
       "      <th>count</th>\n",
       "      <th>unique</th>\n",
       "      <th>top</th>\n",
       "      <th>freq</th>\n",
       "    </tr>\n",
       "  </thead>\n",
       "  <tbody>\n",
       "    <tr>\n",
       "      <th>Date_of_journey</th>\n",
       "      <td>452088</td>\n",
       "      <td>50</td>\n",
       "      <td>2023-01-31</td>\n",
       "      <td>9824</td>\n",
       "    </tr>\n",
       "    <tr>\n",
       "      <th>Journey_day</th>\n",
       "      <td>452088</td>\n",
       "      <td>7</td>\n",
       "      <td>Monday</td>\n",
       "      <td>72220</td>\n",
       "    </tr>\n",
       "    <tr>\n",
       "      <th>Airline</th>\n",
       "      <td>452088</td>\n",
       "      <td>9</td>\n",
       "      <td>Vistara</td>\n",
       "      <td>231490</td>\n",
       "    </tr>\n",
       "    <tr>\n",
       "      <th>Flight_code</th>\n",
       "      <td>452088</td>\n",
       "      <td>1405</td>\n",
       "      <td>UK-936</td>\n",
       "      <td>5506</td>\n",
       "    </tr>\n",
       "    <tr>\n",
       "      <th>Class</th>\n",
       "      <td>452088</td>\n",
       "      <td>4</td>\n",
       "      <td>Economy</td>\n",
       "      <td>252033</td>\n",
       "    </tr>\n",
       "    <tr>\n",
       "      <th>Source</th>\n",
       "      <td>452088</td>\n",
       "      <td>7</td>\n",
       "      <td>Delhi</td>\n",
       "      <td>83153</td>\n",
       "    </tr>\n",
       "    <tr>\n",
       "      <th>Departure</th>\n",
       "      <td>452088</td>\n",
       "      <td>4</td>\n",
       "      <td>6 AM - 12 PM</td>\n",
       "      <td>184980</td>\n",
       "    </tr>\n",
       "    <tr>\n",
       "      <th>Total_stops</th>\n",
       "      <td>452088</td>\n",
       "      <td>3</td>\n",
       "      <td>1-stop</td>\n",
       "      <td>369650</td>\n",
       "    </tr>\n",
       "    <tr>\n",
       "      <th>Arrival</th>\n",
       "      <td>452088</td>\n",
       "      <td>4</td>\n",
       "      <td>After 6 PM</td>\n",
       "      <td>200266</td>\n",
       "    </tr>\n",
       "    <tr>\n",
       "      <th>Destination</th>\n",
       "      <td>452088</td>\n",
       "      <td>7</td>\n",
       "      <td>Mumbai</td>\n",
       "      <td>82995</td>\n",
       "    </tr>\n",
       "  </tbody>\n",
       "</table>\n",
       "</div>"
      ],
      "text/plain": [
       "                  count unique           top    freq\n",
       "Date_of_journey  452088     50    2023-01-31    9824\n",
       "Journey_day      452088      7        Monday   72220\n",
       "Airline          452088      9       Vistara  231490\n",
       "Flight_code      452088   1405        UK-936    5506\n",
       "Class            452088      4       Economy  252033\n",
       "Source           452088      7         Delhi   83153\n",
       "Departure        452088      4  6 AM - 12 PM  184980\n",
       "Total_stops      452088      3        1-stop  369650\n",
       "Arrival          452088      4    After 6 PM  200266\n",
       "Destination      452088      7        Mumbai   82995"
      ]
     },
     "execution_count": 19,
     "metadata": {},
     "output_type": "execute_result"
    }
   ],
   "source": [
    "df2.describe(include='object').T"
   ]
  },
  {
   "cell_type": "markdown",
   "id": "3d9798a8-4307-477f-bb5a-6bba8d97181e",
   "metadata": {},
   "source": [
    "### 3. Is There Incorrect Data Types "
   ]
  },
  {
   "cell_type": "code",
   "execution_count": 20,
   "id": "577483ae-9d0f-4dc8-a1bd-d440831ad407",
   "metadata": {},
   "outputs": [
    {
     "name": "stdout",
     "output_type": "stream",
     "text": [
      "<class 'pandas.core.frame.DataFrame'>\n",
      "RangeIndex: 452088 entries, 0 to 452087\n",
      "Data columns (total 13 columns):\n",
      " #   Column             Non-Null Count   Dtype  \n",
      "---  ------             --------------   -----  \n",
      " 0   Date_of_journey    452088 non-null  object \n",
      " 1   Journey_day        452088 non-null  object \n",
      " 2   Airline            452088 non-null  object \n",
      " 3   Flight_code        452088 non-null  object \n",
      " 4   Class              452088 non-null  object \n",
      " 5   Source             452088 non-null  object \n",
      " 6   Departure          452088 non-null  object \n",
      " 7   Total_stops        452088 non-null  object \n",
      " 8   Arrival            452088 non-null  object \n",
      " 9   Destination        452088 non-null  object \n",
      " 10  Duration_in_hours  452088 non-null  float64\n",
      " 11  Days_left          452088 non-null  int64  \n",
      " 12  Fare               452088 non-null  int64  \n",
      "dtypes: float64(1), int64(2), object(10)\n",
      "memory usage: 44.8+ MB\n"
     ]
    }
   ],
   "source": [
    "df2.info()"
   ]
  },
  {
   "cell_type": "code",
   "execution_count": 21,
   "id": "f26c3ab1-f696-4b39-a4ed-41ec70c52318",
   "metadata": {},
   "outputs": [
    {
     "data": {
      "text/html": [
       "<div>\n",
       "<style scoped>\n",
       "    .dataframe tbody tr th:only-of-type {\n",
       "        vertical-align: middle;\n",
       "    }\n",
       "\n",
       "    .dataframe tbody tr th {\n",
       "        vertical-align: top;\n",
       "    }\n",
       "\n",
       "    .dataframe thead th {\n",
       "        text-align: right;\n",
       "    }\n",
       "</style>\n",
       "<table border=\"1\" class=\"dataframe\">\n",
       "  <thead>\n",
       "    <tr style=\"text-align: right;\">\n",
       "      <th></th>\n",
       "      <th>Date_of_journey</th>\n",
       "      <th>Journey_day</th>\n",
       "      <th>Airline</th>\n",
       "      <th>Flight_code</th>\n",
       "      <th>Class</th>\n",
       "      <th>Source</th>\n",
       "      <th>Departure</th>\n",
       "      <th>Total_stops</th>\n",
       "      <th>Arrival</th>\n",
       "      <th>Destination</th>\n",
       "      <th>Duration_in_hours</th>\n",
       "      <th>Days_left</th>\n",
       "      <th>Fare</th>\n",
       "    </tr>\n",
       "  </thead>\n",
       "  <tbody>\n",
       "    <tr>\n",
       "      <th>0</th>\n",
       "      <td>2023-01-16</td>\n",
       "      <td>Monday</td>\n",
       "      <td>SpiceJet</td>\n",
       "      <td>SG-8169</td>\n",
       "      <td>Economy</td>\n",
       "      <td>Delhi</td>\n",
       "      <td>After 6 PM</td>\n",
       "      <td>non-stop</td>\n",
       "      <td>After 6 PM</td>\n",
       "      <td>Mumbai</td>\n",
       "      <td>2.0833</td>\n",
       "      <td>1</td>\n",
       "      <td>5335</td>\n",
       "    </tr>\n",
       "    <tr>\n",
       "      <th>1</th>\n",
       "      <td>2023-01-16</td>\n",
       "      <td>Monday</td>\n",
       "      <td>Indigo</td>\n",
       "      <td>6E-2519</td>\n",
       "      <td>Economy</td>\n",
       "      <td>Delhi</td>\n",
       "      <td>After 6 PM</td>\n",
       "      <td>non-stop</td>\n",
       "      <td>Before 6 AM</td>\n",
       "      <td>Mumbai</td>\n",
       "      <td>2.3333</td>\n",
       "      <td>1</td>\n",
       "      <td>5899</td>\n",
       "    </tr>\n",
       "    <tr>\n",
       "      <th>2</th>\n",
       "      <td>2023-01-16</td>\n",
       "      <td>Monday</td>\n",
       "      <td>GO FIRST</td>\n",
       "      <td>G8-354</td>\n",
       "      <td>Economy</td>\n",
       "      <td>Delhi</td>\n",
       "      <td>After 6 PM</td>\n",
       "      <td>non-stop</td>\n",
       "      <td>Before 6 AM</td>\n",
       "      <td>Mumbai</td>\n",
       "      <td>2.1667</td>\n",
       "      <td>1</td>\n",
       "      <td>5801</td>\n",
       "    </tr>\n",
       "    <tr>\n",
       "      <th>3</th>\n",
       "      <td>2023-01-16</td>\n",
       "      <td>Monday</td>\n",
       "      <td>SpiceJet</td>\n",
       "      <td>SG-8709</td>\n",
       "      <td>Economy</td>\n",
       "      <td>Delhi</td>\n",
       "      <td>After 6 PM</td>\n",
       "      <td>non-stop</td>\n",
       "      <td>After 6 PM</td>\n",
       "      <td>Mumbai</td>\n",
       "      <td>2.0833</td>\n",
       "      <td>1</td>\n",
       "      <td>5794</td>\n",
       "    </tr>\n",
       "    <tr>\n",
       "      <th>4</th>\n",
       "      <td>2023-01-16</td>\n",
       "      <td>Monday</td>\n",
       "      <td>Air India</td>\n",
       "      <td>AI-805</td>\n",
       "      <td>Economy</td>\n",
       "      <td>Delhi</td>\n",
       "      <td>After 6 PM</td>\n",
       "      <td>non-stop</td>\n",
       "      <td>After 6 PM</td>\n",
       "      <td>Mumbai</td>\n",
       "      <td>2.1667</td>\n",
       "      <td>1</td>\n",
       "      <td>5955</td>\n",
       "    </tr>\n",
       "  </tbody>\n",
       "</table>\n",
       "</div>"
      ],
      "text/plain": [
       "  Date_of_journey Journey_day    Airline Flight_code    Class Source  \\\n",
       "0      2023-01-16      Monday   SpiceJet     SG-8169  Economy  Delhi   \n",
       "1      2023-01-16      Monday     Indigo     6E-2519  Economy  Delhi   \n",
       "2      2023-01-16      Monday   GO FIRST      G8-354  Economy  Delhi   \n",
       "3      2023-01-16      Monday   SpiceJet     SG-8709  Economy  Delhi   \n",
       "4      2023-01-16      Monday  Air India      AI-805  Economy  Delhi   \n",
       "\n",
       "    Departure Total_stops      Arrival Destination  Duration_in_hours  \\\n",
       "0  After 6 PM    non-stop   After 6 PM      Mumbai             2.0833   \n",
       "1  After 6 PM    non-stop  Before 6 AM      Mumbai             2.3333   \n",
       "2  After 6 PM    non-stop  Before 6 AM      Mumbai             2.1667   \n",
       "3  After 6 PM    non-stop   After 6 PM      Mumbai             2.0833   \n",
       "4  After 6 PM    non-stop   After 6 PM      Mumbai             2.1667   \n",
       "\n",
       "   Days_left  Fare  \n",
       "0          1  5335  \n",
       "1          1  5899  \n",
       "2          1  5801  \n",
       "3          1  5794  \n",
       "4          1  5955  "
      ]
     },
     "execution_count": 21,
     "metadata": {},
     "output_type": "execute_result"
    }
   ],
   "source": [
    "df2.head()"
   ]
  },
  {
   "cell_type": "markdown",
   "id": "72ead1cb-73cf-483b-85ba-2644a041d12a",
   "metadata": {},
   "source": [
    "**Incorrect Data Types**\n",
    "- Date_of_journey, need to be converted into Datetime data\n",
    "- Except above, all the columns have correct data types "
   ]
  },
  {
   "cell_type": "markdown",
   "id": "868d51c1-58d3-4dcc-8f41-cf3e3337a2b3",
   "metadata": {},
   "source": [
    "### 4. Is There Any Missing & Duplicated Values"
   ]
  },
  {
   "cell_type": "code",
   "execution_count": 22,
   "id": "ab0898eb-9370-4738-ad4a-fe4e92c95d78",
   "metadata": {},
   "outputs": [
    {
     "data": {
      "text/plain": [
       "0"
      ]
     },
     "execution_count": 22,
     "metadata": {},
     "output_type": "execute_result"
    }
   ],
   "source": [
    "df2.isnull().sum().sum()"
   ]
  },
  {
   "cell_type": "code",
   "execution_count": 23,
   "id": "7c32a85b-535a-440b-982e-7c358a6096a4",
   "metadata": {},
   "outputs": [
    {
     "data": {
      "text/plain": [
       "6722"
      ]
     },
     "execution_count": 23,
     "metadata": {},
     "output_type": "execute_result"
    }
   ],
   "source": [
    "df2.duplicated().sum()"
   ]
  },
  {
   "cell_type": "markdown",
   "id": "e15df26b-1f6a-4735-98cb-450b27c17cf7",
   "metadata": {},
   "source": [
    "## 3. Exploratory Data Analysis"
   ]
  }
 ],
 "metadata": {
  "kernelspec": {
   "display_name": "New_VE",
   "language": "python",
   "name": "my_ve"
  },
  "language_info": {
   "codemirror_mode": {
    "name": "ipython",
    "version": 3
   },
   "file_extension": ".py",
   "mimetype": "text/x-python",
   "name": "python",
   "nbconvert_exporter": "python",
   "pygments_lexer": "ipython3",
   "version": "3.9.13"
  }
 },
 "nbformat": 4,
 "nbformat_minor": 5
}
